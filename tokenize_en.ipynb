{
 "cells": [
  {
   "cell_type": "markdown",
   "metadata": {},
   "source": [
    "# Tokenization "
   ]
  },
  {
   "cell_type": "markdown",
   "metadata": {},
   "source": [
    "## 이선우 (20223888)"
   ]
  },
  {
   "cell_type": "code",
   "execution_count": 1,
   "metadata": {},
   "outputs": [],
   "source": [
    "import nltk"
   ]
  },
  {
   "cell_type": "code",
   "execution_count": 2,
   "metadata": {},
   "outputs": [
    {
     "name": "stderr",
     "output_type": "stream",
     "text": [
      "[nltk_data] Downloading package punkt to /Users/Sun/nltk_data...\n",
      "[nltk_data]   Unzipping tokenizers/punkt.zip.\n"
     ]
    },
    {
     "data": {
      "text/plain": [
       "True"
      ]
     },
     "execution_count": 2,
     "metadata": {},
     "output_type": "execute_result"
    }
   ],
   "source": [
    "nltk.download(\"punkt\")"
   ]
  },
  {
   "cell_type": "code",
   "execution_count": 13,
   "metadata": {},
   "outputs": [],
   "source": [
    "from nltk import sent_tokenize, word_tokenize, pos_tag, wordpunct_tokenize"
   ]
  },
  {
   "cell_type": "code",
   "execution_count": 4,
   "metadata": {},
   "outputs": [],
   "source": [
    "text = \"The old building is scheduled for demolition. The contractors will begin building a new structure next month.\""
   ]
  },
  {
   "cell_type": "code",
   "execution_count": 5,
   "metadata": {},
   "outputs": [
    {
     "data": {
      "text/plain": [
       "['The old building is scheduled for demolition.',\n",
       " 'The contractors will begin building a new structure next month.']"
      ]
     },
     "execution_count": 5,
     "metadata": {},
     "output_type": "execute_result"
    }
   ],
   "source": [
    "sent_tokenize(text) #문장으로 쪼개 줌"
   ]
  },
  {
   "cell_type": "code",
   "execution_count": 7,
   "metadata": {},
   "outputs": [
    {
     "name": "stdout",
     "output_type": "stream",
     "text": [
      "The old building is scheduled for demolition.\n",
      "The contractors will begin building a new structure next month.\n"
     ]
    }
   ],
   "source": [
    "for sent in sent_tokenize(text):\n",
    "    print(sent)"
   ]
  },
  {
   "cell_type": "code",
   "execution_count": 10,
   "metadata": {},
   "outputs": [],
   "source": [
    "text = \"I am actively looking for Ph.D. students. and you are a Ph.D student.\""
   ]
  },
  {
   "cell_type": "code",
   "execution_count": 11,
   "metadata": {},
   "outputs": [
    {
     "data": {
      "text/plain": [
       "['I am actively looking for Ph.D. students.', 'and you are a Ph.D student.']"
      ]
     },
     "execution_count": 11,
     "metadata": {},
     "output_type": "execute_result"
    }
   ],
   "source": [
    "sent_tokenize(text)"
   ]
  },
  {
   "cell_type": "code",
   "execution_count": null,
   "metadata": {},
   "outputs": [],
   "source": []
  },
  {
   "cell_type": "code",
   "execution_count": 12,
   "metadata": {},
   "outputs": [
    {
     "name": "stdout",
     "output_type": "stream",
     "text": [
      "I am actively looking for Ph.D. students.\n",
      "I\n",
      "am\n",
      "actively\n",
      "looking\n",
      "for\n",
      "Ph.D.\n",
      "students\n",
      ".\n",
      "\n",
      "and you are a Ph.D student.\n",
      "and\n",
      "you\n",
      "are\n",
      "a\n",
      "Ph.D\n",
      "student\n",
      ".\n",
      "\n"
     ]
    }
   ],
   "source": [
    "for sent in sent_tokenize(text):\n",
    "    print(sent)\n",
    "\n",
    "    for token in word_tokenize(sent):\n",
    "        print(token)\n",
    "\n",
    "    print()"
   ]
  },
  {
   "cell_type": "code",
   "execution_count": 14,
   "metadata": {},
   "outputs": [
    {
     "name": "stdout",
     "output_type": "stream",
     "text": [
      "I am actively looking for Ph.D. students.\n",
      "I\n",
      "am\n",
      "actively\n",
      "looking\n",
      "for\n",
      "Ph\n",
      ".\n",
      "D\n",
      ".\n",
      "students\n",
      ".\n",
      "\n",
      "and you are a Ph.D student.\n",
      "and\n",
      "you\n",
      "are\n",
      "a\n",
      "Ph\n",
      ".\n",
      "D\n",
      "student\n",
      ".\n",
      "\n"
     ]
    }
   ],
   "source": [
    "for sent in sent_tokenize(text):\n",
    "    print(sent)\n",
    "\n",
    "    for token in wordpunct_tokenize(sent):\n",
    "        print(token)\n",
    "\n",
    "    print()"
   ]
  },
  {
   "cell_type": "code",
   "execution_count": 15,
   "metadata": {},
   "outputs": [
    {
     "name": "stdout",
     "output_type": "stream",
     "text": [
      "I am actively looking for Ph.D. students.\n",
      "I\n",
      "am\n",
      "actively\n",
      "looking\n",
      "for\n",
      "Ph.D.\n",
      "students\n",
      ".\n",
      "\n",
      "and you are a Ph.D student.\n",
      "and\n",
      "you\n",
      "are\n",
      "a\n",
      "Ph.D\n",
      "student\n",
      ".\n",
      "\n"
     ]
    }
   ],
   "source": [
    "for sent in sent_tokenize(text):\n",
    "    print(sent)\n",
    "\n",
    "    for token in word_tokenize(sent):\n",
    "        print(token)\n",
    "\n",
    "    print()"
   ]
  }
 ],
 "metadata": {
  "interpreter": {
   "hash": "d49957daa954e6bec9f177fc046718ee074770fab86eb9520507fb7fbdbef1cf"
  },
  "kernelspec": {
   "display_name": "Python 3.8.13 ('NLP')",
   "language": "python",
   "name": "python3"
  },
  "language_info": {
   "codemirror_mode": {
    "name": "ipython",
    "version": 3
   },
   "file_extension": ".py",
   "mimetype": "text/x-python",
   "name": "python",
   "nbconvert_exporter": "python",
   "pygments_lexer": "ipython3",
   "version": "3.8.13"
  },
  "orig_nbformat": 4
 },
 "nbformat": 4,
 "nbformat_minor": 2
}
