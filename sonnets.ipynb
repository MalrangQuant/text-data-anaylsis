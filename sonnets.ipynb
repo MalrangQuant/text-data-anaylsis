{
 "cells": [
  {
   "cell_type": "markdown",
   "metadata": {},
   "source": [
    "# Shakespear's Sonnets"
   ]
  },
  {
   "cell_type": "markdown",
   "metadata": {},
   "source": [
    "## 이선우 (20223888)"
   ]
  },
  {
   "cell_type": "markdown",
   "metadata": {},
   "source": [
    "### 정규표현식을 이용한 패턴 매칭을 통해 소넷 쪼개씅"
   ]
  },
  {
   "cell_type": "code",
   "execution_count": 8,
   "metadata": {},
   "outputs": [],
   "source": [
    "import re"
   ]
  },
  {
   "cell_type": "code",
   "execution_count": 9,
   "metadata": {},
   "outputs": [],
   "source": [
    "corpus = []"
   ]
  },
  {
   "cell_type": "code",
   "execution_count": 10,
   "metadata": {},
   "outputs": [],
   "source": [
    "'''sonnet 숫자 대로 쪼개기'''\n",
    "\n",
    "with open('sonnets.txt', 'r') as f:\n",
    "    sonnet = ''\n",
    "\n",
    "    for line in f.readlines():\n",
    "        if re.match(r'\\d+', line): #숫자가 밖에 없으면\n",
    "            if sonnet: \n",
    "                corpus.append(sonnet)\n",
    "\n",
    "            sonnet = ''\n",
    "    \n",
    "        else:\n",
    "            sonnet += line #숫자 매치 안되면 걍 넣기\n",
    "\n",
    "    corpus.append(sonnet)"
   ]
  },
  {
   "cell_type": "code",
   "execution_count": 11,
   "metadata": {},
   "outputs": [
    {
     "data": {
      "text/plain": [
       "154"
      ]
     },
     "execution_count": 11,
     "metadata": {},
     "output_type": "execute_result"
    }
   ],
   "source": [
    "len(corpus)"
   ]
  },
  {
   "cell_type": "code",
   "execution_count": 12,
   "metadata": {},
   "outputs": [
    {
     "data": {
      "text/plain": [
       "\"\\nSay that thou didst forsake me for some fault,\\nAnd I will comment upon that offense;\\nSpeak of my lameness and I straight will halt,\\nAgainst thy reasons making no defense.\\nThou canst not, love, disgrace me half so ill,\\nTo set a form upon desired change,\\nAs I'll myself disgrace, knowing thy will;\\nI will acquaintance strangle and look strange,\\nBe absent from thy walks, and in my tongue\\nThy sweet beloved name no more shall dwell,\\nLest I, too much profane, should do it wrong\\nAnd haply of our old acquaintance tell.\\n  For thee, against myself I'll vow debate,\\n  For I must ne'er love him whom thou dost hate.\\n\\n\""
      ]
     },
     "execution_count": 12,
     "metadata": {},
     "output_type": "execute_result"
    }
   ],
   "source": [
    "corpus[88]"
   ]
  }
 ],
 "metadata": {
  "interpreter": {
   "hash": "d49957daa954e6bec9f177fc046718ee074770fab86eb9520507fb7fbdbef1cf"
  },
  "kernelspec": {
   "display_name": "Python 3.8.13 ('NLP')",
   "language": "python",
   "name": "python3"
  },
  "language_info": {
   "codemirror_mode": {
    "name": "ipython",
    "version": 3
   },
   "file_extension": ".py",
   "mimetype": "text/x-python",
   "name": "python",
   "nbconvert_exporter": "python",
   "pygments_lexer": "ipython3",
   "version": "3.8.13"
  },
  "orig_nbformat": 4
 },
 "nbformat": 4,
 "nbformat_minor": 2
}
