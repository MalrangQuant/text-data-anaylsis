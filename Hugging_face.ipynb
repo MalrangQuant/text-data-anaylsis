{
 "cells": [
  {
   "cell_type": "markdown",
   "metadata": {},
   "source": [
    "# Hugging Face"
   ]
  },
  {
   "cell_type": "markdown",
   "metadata": {},
   "source": [
    "## 이선우 (20223888)"
   ]
  },
  {
   "cell_type": "code",
   "execution_count": 1,
   "metadata": {},
   "outputs": [],
   "source": [
    "from transformers import pipeline"
   ]
  },
  {
   "cell_type": "markdown",
   "metadata": {},
   "source": [
    "## Sentiment Analysis"
   ]
  },
  {
   "cell_type": "code",
   "execution_count": 22,
   "metadata": {},
   "outputs": [
    {
     "name": "stderr",
     "output_type": "stream",
     "text": [
      "No model was supplied, defaulted to distilbert-base-uncased-finetuned-sst-2-english (https://huggingface.co/distilbert-base-uncased-finetuned-sst-2-english)\n"
     ]
    }
   ],
   "source": [
    "classifier = pipeline('sentiment-analysis')"
   ]
  },
  {
   "cell_type": "code",
   "execution_count": 23,
   "metadata": {},
   "outputs": [],
   "source": [
    "text = [\n",
    "    \"Fly me to the moon, and let me play among the stars\",\n",
    "    \"April is the cruellest month, breeding Lilacs out of the dead land.\"\n",
    "]"
   ]
  },
  {
   "cell_type": "code",
   "execution_count": 24,
   "metadata": {},
   "outputs": [
    {
     "data": {
      "text/plain": [
       "[{'label': 'POSITIVE', 'score': 0.9996751546859741},\n",
       " {'label': 'NEGATIVE', 'score': 0.9489613771438599}]"
      ]
     },
     "execution_count": 24,
     "metadata": {},
     "output_type": "execute_result"
    }
   ],
   "source": [
    "classifier(text)"
   ]
  },
  {
   "cell_type": "markdown",
   "metadata": {},
   "source": [
    "## Zero-shot classification"
   ]
  },
  {
   "cell_type": "markdown",
   "metadata": {},
   "source": [
    "(Few-shot classification)\n",
    "\n",
    "GPT : Generative Pre-Trained language model"
   ]
  },
  {
   "cell_type": "code",
   "execution_count": 25,
   "metadata": {},
   "outputs": [
    {
     "name": "stderr",
     "output_type": "stream",
     "text": [
      "No model was supplied, defaulted to facebook/bart-large-mnli (https://huggingface.co/facebook/bart-large-mnli)\n"
     ]
    }
   ],
   "source": [
    "classifier = pipeline('zero-shot-classification')"
   ]
  },
  {
   "cell_type": "code",
   "execution_count": 26,
   "metadata": {},
   "outputs": [],
   "source": [
    "text = [\n",
    "    \"German finance minister urges EU to rein in public spending\",\n",
    "    \"China seeks more island security pacts to boost clout in Pacific\"\n",
    "]"
   ]
  },
  {
   "cell_type": "code",
   "execution_count": 27,
   "metadata": {},
   "outputs": [
    {
     "data": {
      "text/plain": [
       "[{'sequence': 'German finance minister urges EU to rein in public spending',\n",
       "  'labels': ['europe', 'politics', 'economy', 'business', 'education', 'asia'],\n",
       "  'scores': [0.40189388394355774,\n",
       "   0.2552807033061981,\n",
       "   0.24059978127479553,\n",
       "   0.07709541916847229,\n",
       "   0.016165118664503098,\n",
       "   0.008965007029473782]},\n",
       " {'sequence': 'China seeks more island security pacts to boost clout in Pacific',\n",
       "  'labels': ['politics', 'asia', 'business', 'economy', 'europe', 'education'],\n",
       "  'scores': [0.5034076571464539,\n",
       "   0.27671101689338684,\n",
       "   0.14557312428951263,\n",
       "   0.033448345959186554,\n",
       "   0.02069881558418274,\n",
       "   0.020161081105470657]}]"
      ]
     },
     "execution_count": 27,
     "metadata": {},
     "output_type": "execute_result"
    }
   ],
   "source": [
    "classifier(\n",
    "    text,\n",
    "    candidate_labels=[\n",
    "        'education', 'politics', 'business',\n",
    "        'economy', 'europe', 'asia'\n",
    "    ]\n",
    ")"
   ]
  },
  {
   "cell_type": "markdown",
   "metadata": {},
   "source": [
    "## Text Generation"
   ]
  },
  {
   "cell_type": "code",
   "execution_count": 28,
   "metadata": {},
   "outputs": [
    {
     "name": "stderr",
     "output_type": "stream",
     "text": [
      "No model was supplied, defaulted to gpt2 (https://huggingface.co/gpt2)\n"
     ]
    }
   ],
   "source": [
    "generator = pipeline('text-generation')"
   ]
  },
  {
   "cell_type": "code",
   "execution_count": 29,
   "metadata": {},
   "outputs": [],
   "source": [
    "# \"The Myth of Sisyphus\" by Albert Camus\n",
    "text = \"There is but one truly serious philosophical problem, and that is suicide. Judging\""
   ]
  },
  {
   "cell_type": "code",
   "execution_count": 30,
   "metadata": {},
   "outputs": [
    {
     "name": "stderr",
     "output_type": "stream",
     "text": [
      "Setting `pad_token_id` to `eos_token_id`:50256 for open-end generation.\n"
     ]
    },
    {
     "data": {
      "text/plain": [
       "[{'generated_text': 'There is but one truly serious philosophical problem, and that is suicide. Judging by what I have seen, it is an irrational problem…and one where there is a clear conflict between man and the Universe: whether it is true or not…or whether'}]"
      ]
     },
     "execution_count": 30,
     "metadata": {},
     "output_type": "execute_result"
    }
   ],
   "source": [
    "generator(text, max_lenght=256)"
   ]
  },
  {
   "cell_type": "markdown",
   "metadata": {},
   "source": [
    "## Mask filling"
   ]
  },
  {
   "cell_type": "code",
   "execution_count": 31,
   "metadata": {},
   "outputs": [
    {
     "name": "stderr",
     "output_type": "stream",
     "text": [
      "No model was supplied, defaulted to distilroberta-base (https://huggingface.co/distilroberta-base)\n"
     ]
    }
   ],
   "source": [
    "unmasker = pipeline('fill-mask')"
   ]
  },
  {
   "cell_type": "code",
   "execution_count": 32,
   "metadata": {},
   "outputs": [],
   "source": [
    "# Billie Eilish\n",
    "text = \"So you're a <mask> guy, Like it really rough guy\""
   ]
  },
  {
   "cell_type": "code",
   "execution_count": 33,
   "metadata": {},
   "outputs": [
    {
     "data": {
      "text/plain": [
       "[{'score': 0.9274505972862244,\n",
       "  'token': 6744,\n",
       "  'token_str': ' rough',\n",
       "  'sequence': \"So you're a rough guy, Like it really rough guy\"},\n",
       " {'score': 0.030521560460329056,\n",
       "  'token': 1828,\n",
       "  'token_str': ' tough',\n",
       "  'sequence': \"So you're a tough guy, Like it really rough guy\"},\n",
       " {'score': 0.001765676774084568,\n",
       "  'token': 1099,\n",
       "  'token_str': ' bad',\n",
       "  'sequence': \"So you're a bad guy, Like it really rough guy\"},\n",
       " {'score': 0.001683201640844345,\n",
       "  'token': 15455,\n",
       "  'token_str': ' nasty',\n",
       "  'sequence': \"So you're a nasty guy, Like it really rough guy\"},\n",
       " {'score': 0.0015438725240528584,\n",
       "  'token': 543,\n",
       "  'token_str': ' hard',\n",
       "  'sequence': \"So you're a hard guy, Like it really rough guy\"}]"
      ]
     },
     "execution_count": 33,
     "metadata": {},
     "output_type": "execute_result"
    }
   ],
   "source": [
    "unmasker(text)"
   ]
  },
  {
   "cell_type": "markdown",
   "metadata": {},
   "source": [
    "## NER (Named Entity Recognition)"
   ]
  },
  {
   "cell_type": "code",
   "execution_count": 34,
   "metadata": {},
   "outputs": [
    {
     "name": "stderr",
     "output_type": "stream",
     "text": [
      "No model was supplied, defaulted to dbmdz/bert-large-cased-finetuned-conll03-english (https://huggingface.co/dbmdz/bert-large-cased-finetuned-conll03-english)\n"
     ]
    }
   ],
   "source": [
    "ner = pipeline('ner')"
   ]
  },
  {
   "cell_type": "code",
   "execution_count": 35,
   "metadata": {},
   "outputs": [],
   "source": [
    "text = \"Steven Paul Jobs (February 24, 1955 – October 5, 2011) was an American entrepreneur, inventor, business magnate, media proprietor, and investor. He was the co-founder, chairman, and CEO of Apple; the chairman and majority shareholder of Pixar; a member of The Walt Disney Company's board of directors following its acquisition of Pixar; and the founder, chairman, and CEO of NeXT. He is widely recognized as a pioneer of the personal computer revolution of the 1970s and 1980s, along with his early business partner and fellow Apple co-founder Steve Wozniak.\""
   ]
  },
  {
   "cell_type": "code",
   "execution_count": 36,
   "metadata": {},
   "outputs": [
    {
     "data": {
      "text/plain": [
       "[{'entity': 'I-PER',\n",
       "  'score': 0.99945754,\n",
       "  'index': 1,\n",
       "  'word': 'Steven',\n",
       "  'start': 0,\n",
       "  'end': 6},\n",
       " {'entity': 'I-PER',\n",
       "  'score': 0.9994562,\n",
       "  'index': 2,\n",
       "  'word': 'Paul',\n",
       "  'start': 7,\n",
       "  'end': 11},\n",
       " {'entity': 'I-PER',\n",
       "  'score': 0.999501,\n",
       "  'index': 3,\n",
       "  'word': 'Job',\n",
       "  'start': 12,\n",
       "  'end': 15},\n",
       " {'entity': 'I-PER',\n",
       "  'score': 0.99722654,\n",
       "  'index': 4,\n",
       "  'word': '##s',\n",
       "  'start': 15,\n",
       "  'end': 16},\n",
       " {'entity': 'I-MISC',\n",
       "  'score': 0.9967591,\n",
       "  'index': 18,\n",
       "  'word': 'American',\n",
       "  'start': 62,\n",
       "  'end': 70},\n",
       " {'entity': 'I-ORG',\n",
       "  'score': 0.9993734,\n",
       "  'index': 45,\n",
       "  'word': 'Apple',\n",
       "  'start': 189,\n",
       "  'end': 194},\n",
       " {'entity': 'I-ORG',\n",
       "  'score': 0.9989691,\n",
       "  'index': 53,\n",
       "  'word': 'Pi',\n",
       "  'start': 237,\n",
       "  'end': 239},\n",
       " {'entity': 'I-ORG',\n",
       "  'score': 0.9961754,\n",
       "  'index': 54,\n",
       "  'word': '##xa',\n",
       "  'start': 239,\n",
       "  'end': 241},\n",
       " {'entity': 'I-ORG',\n",
       "  'score': 0.9993247,\n",
       "  'index': 55,\n",
       "  'word': '##r',\n",
       "  'start': 241,\n",
       "  'end': 242},\n",
       " {'entity': 'I-ORG',\n",
       "  'score': 0.9991516,\n",
       "  'index': 60,\n",
       "  'word': 'The',\n",
       "  'start': 256,\n",
       "  'end': 259},\n",
       " {'entity': 'I-ORG',\n",
       "  'score': 0.9995415,\n",
       "  'index': 61,\n",
       "  'word': 'Walt',\n",
       "  'start': 260,\n",
       "  'end': 264},\n",
       " {'entity': 'I-ORG',\n",
       "  'score': 0.99930453,\n",
       "  'index': 62,\n",
       "  'word': 'Disney',\n",
       "  'start': 265,\n",
       "  'end': 271},\n",
       " {'entity': 'I-ORG',\n",
       "  'score': 0.99911934,\n",
       "  'index': 63,\n",
       "  'word': 'Company',\n",
       "  'start': 272,\n",
       "  'end': 279},\n",
       " {'entity': 'I-ORG',\n",
       "  'score': 0.99833447,\n",
       "  'index': 73,\n",
       "  'word': 'Pi',\n",
       "  'start': 330,\n",
       "  'end': 332},\n",
       " {'entity': 'I-ORG',\n",
       "  'score': 0.9955432,\n",
       "  'index': 74,\n",
       "  'word': '##xa',\n",
       "  'start': 332,\n",
       "  'end': 334},\n",
       " {'entity': 'I-ORG',\n",
       "  'score': 0.9990802,\n",
       "  'index': 75,\n",
       "  'word': '##r',\n",
       "  'start': 334,\n",
       "  'end': 335},\n",
       " {'entity': 'I-ORG',\n",
       "  'score': 0.99892163,\n",
       "  'index': 86,\n",
       "  'word': 'N',\n",
       "  'start': 375,\n",
       "  'end': 376},\n",
       " {'entity': 'I-ORG',\n",
       "  'score': 0.9892464,\n",
       "  'index': 87,\n",
       "  'word': '##e',\n",
       "  'start': 376,\n",
       "  'end': 377},\n",
       " {'entity': 'I-ORG',\n",
       "  'score': 0.9980622,\n",
       "  'index': 88,\n",
       "  'word': '##XT',\n",
       "  'start': 377,\n",
       "  'end': 379},\n",
       " {'entity': 'I-ORG',\n",
       "  'score': 0.99610436,\n",
       "  'index': 116,\n",
       "  'word': 'Apple',\n",
       "  'start': 527,\n",
       "  'end': 532},\n",
       " {'entity': 'I-PER',\n",
       "  'score': 0.99932516,\n",
       "  'index': 120,\n",
       "  'word': 'Steve',\n",
       "  'start': 544,\n",
       "  'end': 549},\n",
       " {'entity': 'I-PER',\n",
       "  'score': 0.99936014,\n",
       "  'index': 121,\n",
       "  'word': 'W',\n",
       "  'start': 550,\n",
       "  'end': 551},\n",
       " {'entity': 'I-PER',\n",
       "  'score': 0.8474737,\n",
       "  'index': 122,\n",
       "  'word': '##oz',\n",
       "  'start': 551,\n",
       "  'end': 553},\n",
       " {'entity': 'I-PER',\n",
       "  'score': 0.8154645,\n",
       "  'index': 123,\n",
       "  'word': '##nia',\n",
       "  'start': 553,\n",
       "  'end': 556},\n",
       " {'entity': 'I-PER',\n",
       "  'score': 0.9925479,\n",
       "  'index': 124,\n",
       "  'word': '##k',\n",
       "  'start': 556,\n",
       "  'end': 557}]"
      ]
     },
     "execution_count": 36,
     "metadata": {},
     "output_type": "execute_result"
    }
   ],
   "source": [
    "ner(text)"
   ]
  },
  {
   "cell_type": "markdown",
   "metadata": {},
   "source": [
    "## Question answering"
   ]
  },
  {
   "cell_type": "code",
   "execution_count": 37,
   "metadata": {},
   "outputs": [
    {
     "name": "stderr",
     "output_type": "stream",
     "text": [
      "No model was supplied, defaulted to distilbert-base-cased-distilled-squad (https://huggingface.co/distilbert-base-cased-distilled-squad)\n"
     ]
    }
   ],
   "source": [
    "question_answerer = pipeline('question-answering')"
   ]
  },
  {
   "cell_type": "code",
   "execution_count": 38,
   "metadata": {},
   "outputs": [
    {
     "data": {
      "text/plain": [
       "{'score': 0.45512744784355164, 'start': 189, 'end': 194, 'answer': 'Apple'}"
      ]
     },
     "execution_count": 38,
     "metadata": {},
     "output_type": "execute_result"
    }
   ],
   "source": [
    "question_answerer(\n",
    "    context = text,\n",
    "    question = \"Which companies are founded by Steve Jobs?\"\n",
    ")"
   ]
  },
  {
   "cell_type": "markdown",
   "metadata": {},
   "source": [
    "## Summarization"
   ]
  },
  {
   "cell_type": "code",
   "execution_count": 39,
   "metadata": {},
   "outputs": [
    {
     "name": "stderr",
     "output_type": "stream",
     "text": [
      "No model was supplied, defaulted to sshleifer/distilbart-cnn-12-6 (https://huggingface.co/sshleifer/distilbart-cnn-12-6)\n"
     ]
    }
   ],
   "source": [
    "summarizer = pipeline(\"summarization\")"
   ]
  },
  {
   "cell_type": "code",
   "execution_count": 40,
   "metadata": {},
   "outputs": [
    {
     "data": {
      "text/plain": [
       "[{'summary_text': \" Steven Paul Jobs was the co-founder, chairman, and CEO of Apple . He is widely recognized as a pioneer of the personal computer revolution of the 1970s and 1980s, along with his early business partner Steve Wozniak . He was a member of The Walt Disney Company's board of directors\"}]"
      ]
     },
     "execution_count": 40,
     "metadata": {},
     "output_type": "execute_result"
    }
   ],
   "source": [
    "summarizer(text, max_length=64)"
   ]
  },
  {
   "cell_type": "markdown",
   "metadata": {},
   "source": [
    "## Translation"
   ]
  },
  {
   "cell_type": "markdown",
   "metadata": {},
   "source": [
    "brew install cmake\n",
    "!pip install sentencepiece"
   ]
  },
  {
   "cell_type": "code",
   "execution_count": 41,
   "metadata": {},
   "outputs": [],
   "source": [
    "translator = pipeline(\"translation\", model=\"Helsinki-NLP/opus-mt-en-fr\")"
   ]
  },
  {
   "cell_type": "code",
   "execution_count": 42,
   "metadata": {},
   "outputs": [
    {
     "data": {
      "text/plain": [
       "[{'translation_text': 'Bonjour Jieun'}]"
      ]
     },
     "execution_count": 42,
     "metadata": {},
     "output_type": "execute_result"
    }
   ],
   "source": [
    "translator(\"Hello Jieun\")"
   ]
  },
  {
   "cell_type": "code",
   "execution_count": 43,
   "metadata": {},
   "outputs": [
    {
     "data": {
      "text/plain": [
       "[{'translation_text': \"Steven Paul Jobs (24 février 1955 – 5 octobre 2011) était un entrepreneur américain, inventeur, magnat des affaires, propriétaire de médias et investisseur. Il était le cofondateur, président et directeur général d'Apple; le président et actionnaire majoritaire de Pixar; un membre du conseil d'administration de la Walt Disney Company suite à son acquisition de Pixar; et le fondateur, président et chef de la direction de NeXT. Il est largement reconnu comme un pionnier de la révolution informatique personnelle des années 1970 et 1980, ainsi que son premier associé et cofondateur d'Apple Steve Wozniak.\"}]"
      ]
     },
     "execution_count": 43,
     "metadata": {},
     "output_type": "execute_result"
    }
   ],
   "source": [
    "translator(text)"
   ]
  },
  {
   "cell_type": "code",
   "execution_count": 44,
   "metadata": {},
   "outputs": [],
   "source": [
    "translator = pipeline(\"translation\", model=\"Helsinki-NLP/opus-mt-ko-en\")"
   ]
  },
  {
   "cell_type": "code",
   "execution_count": 45,
   "metadata": {},
   "outputs": [],
   "source": [
    "text = \"한국산 가상화폐 루나와 테라USD(UST) 폭락으로 손실을 본 투자자들이 발행사 테라폼랩스의 권도형 최고경영자(CEO)를 고소했다.\""
   ]
  },
  {
   "cell_type": "code",
   "execution_count": 46,
   "metadata": {},
   "outputs": [
    {
     "data": {
      "text/plain": [
       "[{'translation_text': \"After losing a Korean virtual currency, Luna turusD (UST), investors filed charges against CEO's high-powered top manager for the launch service terafos.\"}]"
      ]
     },
     "execution_count": 46,
     "metadata": {},
     "output_type": "execute_result"
    }
   ],
   "source": [
    "translator(text)"
   ]
  },
  {
   "cell_type": "markdown",
   "metadata": {},
   "source": [
    "## Sentiment Analysis - Korean"
   ]
  },
  {
   "cell_type": "code",
   "execution_count": 2,
   "metadata": {},
   "outputs": [],
   "source": [
    "classifier = pipeline('sentiment-analysis', model='snunlp/KR-FinBert-SC')"
   ]
  },
  {
   "cell_type": "code",
   "execution_count": 3,
   "metadata": {},
   "outputs": [],
   "source": [
    "text = [\n",
    "    \"한국산 가상화폐 루나와 테라USD(UST) 폭락으로 손실을 본 투자자들이 발행사 테라폼랩스의 권도형 최고경영자(CEO)를 고소했다.\",\n",
    "    \"외국인, 올해 국내 주식 15조 원 순매도…삼성만 5조 원 팔았다\",\n",
    "    '尹, 탈원전 정상화 추진 “원전 수출 증진 위해 韓美 노력”',\n",
    "]"
   ]
  },
  {
   "cell_type": "code",
   "execution_count": 4,
   "metadata": {},
   "outputs": [
    {
     "data": {
      "text/plain": [
       "[{'label': 'negative', 'score': 0.9798453450202942},\n",
       " {'label': 'negative', 'score': 0.9699411988258362},\n",
       " {'label': 'positive', 'score': 0.995445728302002}]"
      ]
     },
     "execution_count": 4,
     "metadata": {},
     "output_type": "execute_result"
    }
   ],
   "source": [
    "classifier(text)"
   ]
  }
 ],
 "metadata": {
  "interpreter": {
   "hash": "8625ec09a142717e5a7de880ad953eae88e1d4f4bcd0fca3e4e24c78b74f5f0e"
  },
  "kernelspec": {
   "display_name": "Python 3.8.13 ('test')",
   "language": "python",
   "name": "python3"
  },
  "language_info": {
   "codemirror_mode": {
    "name": "ipython",
    "version": 3
   },
   "file_extension": ".py",
   "mimetype": "text/x-python",
   "name": "python",
   "nbconvert_exporter": "python",
   "pygments_lexer": "ipython3",
   "version": "3.8.13"
  },
  "orig_nbformat": 4
 },
 "nbformat": 4,
 "nbformat_minor": 2
}
