{
 "cells": [
  {
   "cell_type": "code",
   "execution_count": 69,
   "metadata": {},
   "outputs": [],
   "source": [
    "import pandas as pd\n",
    "from konlpy.tag import Hannanum\n",
    "import yfinance as yf\n",
    "import datetime\n",
    "import numpy as np"
   ]
  },
  {
   "cell_type": "code",
   "execution_count": 61,
   "metadata": {},
   "outputs": [],
   "source": [
    "tmp = df_process(df)"
   ]
  },
  {
   "cell_type": "code",
   "execution_count": 62,
   "metadata": {},
   "outputs": [
    {
     "data": {
      "text/html": [
       "<div>\n",
       "<style scoped>\n",
       "    .dataframe tbody tr th:only-of-type {\n",
       "        vertical-align: middle;\n",
       "    }\n",
       "\n",
       "    .dataframe tbody tr th {\n",
       "        vertical-align: top;\n",
       "    }\n",
       "\n",
       "    .dataframe thead th {\n",
       "        text-align: right;\n",
       "    }\n",
       "</style>\n",
       "<table border=\"1\" class=\"dataframe\">\n",
       "  <thead>\n",
       "    <tr style=\"text-align: right;\">\n",
       "      <th></th>\n",
       "      <th>제목</th>\n",
       "    </tr>\n",
       "    <tr>\n",
       "      <th>일자</th>\n",
       "      <th></th>\n",
       "    </tr>\n",
       "  </thead>\n",
       "  <tbody>\n",
       "    <tr>\n",
       "      <th>2022-03-16</th>\n",
       "      <td>신세계百, 강남점 센텀시티점에 국내 최초 '베이비 디올' 매장 오픈</td>\n",
       "    </tr>\n",
       "    <tr>\n",
       "      <th>2022-03-16</th>\n",
       "      <td>이동근 \"중대재해법, 기업 부담 커 윤석열 정부, 개선해달라\"</td>\n",
       "    </tr>\n",
       "    <tr>\n",
       "      <th>2022-03-16</th>\n",
       "      <td>'위기에도 혁신' K-배터리 한자리  반도체 신화 넘본다</td>\n",
       "    </tr>\n",
       "    <tr>\n",
       "      <th>2022-03-16</th>\n",
       "      <td>[솔선守法] 중대재해법 첫 사건</td>\n",
       "    </tr>\n",
       "    <tr>\n",
       "      <th>2022-03-16</th>\n",
       "      <td>코스피, 기관 매수에 상승 마감 하루만에 '7만전자' 회복</td>\n",
       "    </tr>\n",
       "    <tr>\n",
       "      <th>...</th>\n",
       "      <td>...</td>\n",
       "    </tr>\n",
       "    <tr>\n",
       "      <th>2022-03-31</th>\n",
       "      <td>전세대출도 5% 넘었다 한은, 금리인상 스텝 한템포 쉬어가나</td>\n",
       "    </tr>\n",
       "    <tr>\n",
       "      <th>2022-03-31</th>\n",
       "      <td>가상자산, 성능과 안정의 시대로 테라 솔라나 급부상</td>\n",
       "    </tr>\n",
       "    <tr>\n",
       "      <th>2022-03-31</th>\n",
       "      <td>“원전 생태계 복원 필요성 에너지 자립도 높여야”</td>\n",
       "    </tr>\n",
       "    <tr>\n",
       "      <th>2022-03-31</th>\n",
       "      <td>무역보험공사, 창업진흥원과 미래 수출기업 육성 나선다</td>\n",
       "    </tr>\n",
       "    <tr>\n",
       "      <th>2022-03-31</th>\n",
       "      <td>'IFC인수전' 미래에셋과 손잡는 유통업체는 어디</td>\n",
       "    </tr>\n",
       "  </tbody>\n",
       "</table>\n",
       "<p>20000 rows × 1 columns</p>\n",
       "</div>"
      ],
      "text/plain": [
       "                                               제목\n",
       "일자                                               \n",
       "2022-03-16  신세계百, 강남점 센텀시티점에 국내 최초 '베이비 디올' 매장 오픈\n",
       "2022-03-16     이동근 \"중대재해법, 기업 부담 커 윤석열 정부, 개선해달라\"\n",
       "2022-03-16        '위기에도 혁신' K-배터리 한자리  반도체 신화 넘본다\n",
       "2022-03-16                      [솔선守法] 중대재해법 첫 사건\n",
       "2022-03-16       코스피, 기관 매수에 상승 마감 하루만에 '7만전자' 회복\n",
       "...                                           ...\n",
       "2022-03-31      전세대출도 5% 넘었다 한은, 금리인상 스텝 한템포 쉬어가나\n",
       "2022-03-31           가상자산, 성능과 안정의 시대로 테라 솔라나 급부상\n",
       "2022-03-31            “원전 생태계 복원 필요성 에너지 자립도 높여야”\n",
       "2022-03-31          무역보험공사, 창업진흥원과 미래 수출기업 육성 나선다\n",
       "2022-03-31            'IFC인수전' 미래에셋과 손잡는 유통업체는 어디\n",
       "\n",
       "[20000 rows x 1 columns]"
      ]
     },
     "execution_count": 62,
     "metadata": {},
     "output_type": "execute_result"
    }
   ],
   "source": [
    "tmp"
   ]
  },
  {
   "cell_type": "code",
   "execution_count": 64,
   "metadata": {},
   "outputs": [],
   "source": [
    "#for i in tmp.index.unique():\n",
    "    "
   ]
  },
  {
   "cell_type": "code",
   "execution_count": 65,
   "metadata": {},
   "outputs": [
    {
     "ename": "AttributeError",
     "evalue": "module 'datetime' has no attribute 'strptime'",
     "output_type": "error",
     "traceback": [
      "\u001b[0;31m---------------------------------------------------------------------------\u001b[0m",
      "\u001b[0;31mAttributeError\u001b[0m                            Traceback (most recent call last)",
      "\u001b[1;32m/Users/Sun/Documents/Github/text-data-anaylsis/News_word/News_words.ipynb Cell 5'\u001b[0m in \u001b[0;36m<cell line: 1>\u001b[0;34m()\u001b[0m\n\u001b[0;32m----> <a href='vscode-notebook-cell:/Users/Sun/Documents/Github/text-data-anaylsis/News_word/News_words.ipynb#ch0000019?line=0'>1</a>\u001b[0m start_date_str \u001b[39m=\u001b[39m datetime\u001b[39m.\u001b[39;49mstrptime(tmp\u001b[39m.\u001b[39mindex\u001b[39m.\u001b[39munique()[\u001b[39m0\u001b[39m], \u001b[39m'\u001b[39m\u001b[39m%\u001b[39m\u001b[39mY-\u001b[39m\u001b[39m%\u001b[39m\u001b[39mm-\u001b[39m\u001b[39m%d\u001b[39;00m\u001b[39m'\u001b[39m)\n\u001b[1;32m      <a href='vscode-notebook-cell:/Users/Sun/Documents/Github/text-data-anaylsis/News_word/News_words.ipynb#ch0000019?line=1'>2</a>\u001b[0m end_date_str \u001b[39m=\u001b[39m datetime\u001b[39m.\u001b[39mstrptime(tmp\u001b[39m.\u001b[39mindex\u001b[39m.\u001b[39munique()[\u001b[39m-\u001b[39m\u001b[39m1\u001b[39m], \u001b[39m'\u001b[39m\u001b[39m%\u001b[39m\u001b[39mY-\u001b[39m\u001b[39m%\u001b[39m\u001b[39mm-\u001b[39m\u001b[39m%d\u001b[39;00m\u001b[39m'\u001b[39m)\n",
      "\u001b[0;31mAttributeError\u001b[0m: module 'datetime' has no attribute 'strptime'"
     ]
    }
   ],
   "source": [
    "start_date_str = datetime.strptime(tmp.index.unique()[0], '%Y-%m-%d')\n",
    "end_date_str = datetime.strptime(tmp.index.unique()[-1], '%Y-%m-%d')"
   ]
  },
  {
   "cell_type": "code",
   "execution_count": 66,
   "metadata": {},
   "outputs": [
    {
     "data": {
      "text/plain": [
       "'2022-03-16'"
      ]
     },
     "execution_count": 66,
     "metadata": {},
     "output_type": "execute_result"
    }
   ],
   "source": [
    "str(tmp.index.unique()[0])[0:10]"
   ]
  },
  {
   "cell_type": "code",
   "execution_count": null,
   "metadata": {},
   "outputs": [],
   "source": []
  },
  {
   "cell_type": "code",
   "execution_count": 70,
   "metadata": {},
   "outputs": [],
   "source": [
    "start_date_str = str(tmp.index.unique()[0])[0:10]\n",
    "end_date_str = str(tmp.index.unique()[-1])[0:10]\n",
    "\n",
    "check = yf.download('^KS11', start_date_str, end_date_str, progress=False)\n",
    "check['signal'] = np.where((check['Close'] - check['Open'])> 0 ,1, 0)"
   ]
  },
  {
   "cell_type": "code",
   "execution_count": 71,
   "metadata": {},
   "outputs": [
    {
     "data": {
      "text/html": [
       "<div>\n",
       "<style scoped>\n",
       "    .dataframe tbody tr th:only-of-type {\n",
       "        vertical-align: middle;\n",
       "    }\n",
       "\n",
       "    .dataframe tbody tr th {\n",
       "        vertical-align: top;\n",
       "    }\n",
       "\n",
       "    .dataframe thead th {\n",
       "        text-align: right;\n",
       "    }\n",
       "</style>\n",
       "<table border=\"1\" class=\"dataframe\">\n",
       "  <thead>\n",
       "    <tr style=\"text-align: right;\">\n",
       "      <th></th>\n",
       "      <th>Open</th>\n",
       "      <th>High</th>\n",
       "      <th>Low</th>\n",
       "      <th>Close</th>\n",
       "      <th>Adj Close</th>\n",
       "      <th>Volume</th>\n",
       "      <th>signal</th>\n",
       "    </tr>\n",
       "    <tr>\n",
       "      <th>Date</th>\n",
       "      <th></th>\n",
       "      <th></th>\n",
       "      <th></th>\n",
       "      <th></th>\n",
       "      <th></th>\n",
       "      <th></th>\n",
       "      <th></th>\n",
       "    </tr>\n",
       "  </thead>\n",
       "  <tbody>\n",
       "    <tr>\n",
       "      <th>2022-03-16</th>\n",
       "      <td>2649.850098</td>\n",
       "      <td>2659.899902</td>\n",
       "      <td>2630.030029</td>\n",
       "      <td>2659.229980</td>\n",
       "      <td>2659.229980</td>\n",
       "      <td>736000</td>\n",
       "      <td>1</td>\n",
       "    </tr>\n",
       "    <tr>\n",
       "      <th>2022-03-17</th>\n",
       "      <td>2703.270020</td>\n",
       "      <td>2714.000000</td>\n",
       "      <td>2694.510010</td>\n",
       "      <td>2694.510010</td>\n",
       "      <td>2694.510010</td>\n",
       "      <td>545500</td>\n",
       "      <td>0</td>\n",
       "    </tr>\n",
       "    <tr>\n",
       "      <th>2022-03-18</th>\n",
       "      <td>2695.639893</td>\n",
       "      <td>2708.159912</td>\n",
       "      <td>2688.709961</td>\n",
       "      <td>2707.020020</td>\n",
       "      <td>2707.020020</td>\n",
       "      <td>643500</td>\n",
       "      <td>1</td>\n",
       "    </tr>\n",
       "    <tr>\n",
       "      <th>2022-03-21</th>\n",
       "      <td>2717.810059</td>\n",
       "      <td>2717.810059</td>\n",
       "      <td>2683.689941</td>\n",
       "      <td>2686.050049</td>\n",
       "      <td>2686.050049</td>\n",
       "      <td>502000</td>\n",
       "      <td>0</td>\n",
       "    </tr>\n",
       "    <tr>\n",
       "      <th>2022-03-22</th>\n",
       "      <td>2686.679932</td>\n",
       "      <td>2712.139893</td>\n",
       "      <td>2686.580078</td>\n",
       "      <td>2710.000000</td>\n",
       "      <td>2710.000000</td>\n",
       "      <td>489100</td>\n",
       "      <td>1</td>\n",
       "    </tr>\n",
       "    <tr>\n",
       "      <th>2022-03-23</th>\n",
       "      <td>2727.120117</td>\n",
       "      <td>2742.270020</td>\n",
       "      <td>2720.830078</td>\n",
       "      <td>2735.050049</td>\n",
       "      <td>2735.050049</td>\n",
       "      <td>883000</td>\n",
       "      <td>1</td>\n",
       "    </tr>\n",
       "    <tr>\n",
       "      <th>2022-03-24</th>\n",
       "      <td>2716.250000</td>\n",
       "      <td>2729.659912</td>\n",
       "      <td>2705.139893</td>\n",
       "      <td>2729.659912</td>\n",
       "      <td>2729.659912</td>\n",
       "      <td>959600</td>\n",
       "      <td>1</td>\n",
       "    </tr>\n",
       "    <tr>\n",
       "      <th>2022-03-25</th>\n",
       "      <td>2740.830078</td>\n",
       "      <td>2740.949951</td>\n",
       "      <td>2722.360107</td>\n",
       "      <td>2729.979980</td>\n",
       "      <td>2729.979980</td>\n",
       "      <td>599800</td>\n",
       "      <td>0</td>\n",
       "    </tr>\n",
       "    <tr>\n",
       "      <th>2022-03-28</th>\n",
       "      <td>2721.219971</td>\n",
       "      <td>2737.459961</td>\n",
       "      <td>2707.739990</td>\n",
       "      <td>2729.560059</td>\n",
       "      <td>2729.560059</td>\n",
       "      <td>768000</td>\n",
       "      <td>1</td>\n",
       "    </tr>\n",
       "    <tr>\n",
       "      <th>2022-03-29</th>\n",
       "      <td>2745.620117</td>\n",
       "      <td>2754.179932</td>\n",
       "      <td>2733.219971</td>\n",
       "      <td>2741.070068</td>\n",
       "      <td>2741.070068</td>\n",
       "      <td>726700</td>\n",
       "      <td>0</td>\n",
       "    </tr>\n",
       "    <tr>\n",
       "      <th>2022-03-30</th>\n",
       "      <td>2758.310059</td>\n",
       "      <td>2760.600098</td>\n",
       "      <td>2740.020020</td>\n",
       "      <td>2746.739990</td>\n",
       "      <td>2746.739990</td>\n",
       "      <td>837800</td>\n",
       "      <td>0</td>\n",
       "    </tr>\n",
       "  </tbody>\n",
       "</table>\n",
       "</div>"
      ],
      "text/plain": [
       "                   Open         High          Low        Close    Adj Close  \\\n",
       "Date                                                                          \n",
       "2022-03-16  2649.850098  2659.899902  2630.030029  2659.229980  2659.229980   \n",
       "2022-03-17  2703.270020  2714.000000  2694.510010  2694.510010  2694.510010   \n",
       "2022-03-18  2695.639893  2708.159912  2688.709961  2707.020020  2707.020020   \n",
       "2022-03-21  2717.810059  2717.810059  2683.689941  2686.050049  2686.050049   \n",
       "2022-03-22  2686.679932  2712.139893  2686.580078  2710.000000  2710.000000   \n",
       "2022-03-23  2727.120117  2742.270020  2720.830078  2735.050049  2735.050049   \n",
       "2022-03-24  2716.250000  2729.659912  2705.139893  2729.659912  2729.659912   \n",
       "2022-03-25  2740.830078  2740.949951  2722.360107  2729.979980  2729.979980   \n",
       "2022-03-28  2721.219971  2737.459961  2707.739990  2729.560059  2729.560059   \n",
       "2022-03-29  2745.620117  2754.179932  2733.219971  2741.070068  2741.070068   \n",
       "2022-03-30  2758.310059  2760.600098  2740.020020  2746.739990  2746.739990   \n",
       "\n",
       "            Volume  signal  \n",
       "Date                        \n",
       "2022-03-16  736000       1  \n",
       "2022-03-17  545500       0  \n",
       "2022-03-18  643500       1  \n",
       "2022-03-21  502000       0  \n",
       "2022-03-22  489100       1  \n",
       "2022-03-23  883000       1  \n",
       "2022-03-24  959600       1  \n",
       "2022-03-25  599800       0  \n",
       "2022-03-28  768000       1  \n",
       "2022-03-29  726700       0  \n",
       "2022-03-30  837800       0  "
      ]
     },
     "execution_count": 71,
     "metadata": {},
     "output_type": "execute_result"
    }
   ],
   "source": [
    "check"
   ]
  },
  {
   "cell_type": "code",
   "execution_count": 84,
   "metadata": {},
   "outputs": [
    {
     "data": {
      "text/plain": [
       "Timestamp('2022-03-16 00:00:00')"
      ]
     },
     "execution_count": 84,
     "metadata": {},
     "output_type": "execute_result"
    }
   ],
   "source": [
    "check.index[0]"
   ]
  },
  {
   "cell_type": "code",
   "execution_count": 85,
   "metadata": {},
   "outputs": [
    {
     "data": {
      "text/plain": [
       "Timestamp('2022-03-16 00:00:00')"
      ]
     },
     "execution_count": 85,
     "metadata": {},
     "output_type": "execute_result"
    }
   ],
   "source": [
    "tmp.index[0]"
   ]
  },
  {
   "cell_type": "code",
   "execution_count": 87,
   "metadata": {},
   "outputs": [
    {
     "data": {
      "text/plain": [
       "1"
      ]
     },
     "execution_count": 87,
     "metadata": {},
     "output_type": "execute_result"
    }
   ],
   "source": [
    "check.loc[check.index[0], 'signal']"
   ]
  },
  {
   "cell_type": "code",
   "execution_count": 86,
   "metadata": {},
   "outputs": [
    {
     "name": "stderr",
     "output_type": "stream",
     "text": [
      "/var/folders/0k/zyr795gx3hl6x1nytrrntcnc0000gn/T/ipykernel_10121/3913218476.py:1: SettingWithCopyWarning: \n",
      "A value is trying to be set on a copy of a slice from a DataFrame.\n",
      "Try using .loc[row_indexer,col_indexer] = value instead\n",
      "\n",
      "See the caveats in the documentation: https://pandas.pydata.org/pandas-docs/stable/user_guide/indexing.html#returning-a-view-versus-a-copy\n",
      "  tmp[tmp.index == check.index[0]]['signal'] = check.loc[check.index[0], 'signal']\n"
     ]
    }
   ],
   "source": [
    "tmp[tmp.index == check.index[0]]['signal'] = check.loc[check.index[0], 'signal']"
   ]
  },
  {
   "cell_type": "code",
   "execution_count": 88,
   "metadata": {},
   "outputs": [
    {
     "data": {
      "text/html": [
       "<div>\n",
       "<style scoped>\n",
       "    .dataframe tbody tr th:only-of-type {\n",
       "        vertical-align: middle;\n",
       "    }\n",
       "\n",
       "    .dataframe tbody tr th {\n",
       "        vertical-align: top;\n",
       "    }\n",
       "\n",
       "    .dataframe thead th {\n",
       "        text-align: right;\n",
       "    }\n",
       "</style>\n",
       "<table border=\"1\" class=\"dataframe\">\n",
       "  <thead>\n",
       "    <tr style=\"text-align: right;\">\n",
       "      <th></th>\n",
       "      <th>제목</th>\n",
       "    </tr>\n",
       "    <tr>\n",
       "      <th>일자</th>\n",
       "      <th></th>\n",
       "    </tr>\n",
       "  </thead>\n",
       "  <tbody>\n",
       "    <tr>\n",
       "      <th>2022-03-16</th>\n",
       "      <td>신세계百, 강남점 센텀시티점에 국내 최초 '베이비 디올' 매장 오픈</td>\n",
       "    </tr>\n",
       "    <tr>\n",
       "      <th>2022-03-16</th>\n",
       "      <td>이동근 \"중대재해법, 기업 부담 커 윤석열 정부, 개선해달라\"</td>\n",
       "    </tr>\n",
       "    <tr>\n",
       "      <th>2022-03-16</th>\n",
       "      <td>'위기에도 혁신' K-배터리 한자리  반도체 신화 넘본다</td>\n",
       "    </tr>\n",
       "    <tr>\n",
       "      <th>2022-03-16</th>\n",
       "      <td>[솔선守法] 중대재해법 첫 사건</td>\n",
       "    </tr>\n",
       "    <tr>\n",
       "      <th>2022-03-16</th>\n",
       "      <td>코스피, 기관 매수에 상승 마감 하루만에 '7만전자' 회복</td>\n",
       "    </tr>\n",
       "    <tr>\n",
       "      <th>...</th>\n",
       "      <td>...</td>\n",
       "    </tr>\n",
       "    <tr>\n",
       "      <th>2022-03-31</th>\n",
       "      <td>전세대출도 5% 넘었다 한은, 금리인상 스텝 한템포 쉬어가나</td>\n",
       "    </tr>\n",
       "    <tr>\n",
       "      <th>2022-03-31</th>\n",
       "      <td>가상자산, 성능과 안정의 시대로 테라 솔라나 급부상</td>\n",
       "    </tr>\n",
       "    <tr>\n",
       "      <th>2022-03-31</th>\n",
       "      <td>“원전 생태계 복원 필요성 에너지 자립도 높여야”</td>\n",
       "    </tr>\n",
       "    <tr>\n",
       "      <th>2022-03-31</th>\n",
       "      <td>무역보험공사, 창업진흥원과 미래 수출기업 육성 나선다</td>\n",
       "    </tr>\n",
       "    <tr>\n",
       "      <th>2022-03-31</th>\n",
       "      <td>'IFC인수전' 미래에셋과 손잡는 유통업체는 어디</td>\n",
       "    </tr>\n",
       "  </tbody>\n",
       "</table>\n",
       "<p>20000 rows × 1 columns</p>\n",
       "</div>"
      ],
      "text/plain": [
       "                                               제목\n",
       "일자                                               \n",
       "2022-03-16  신세계百, 강남점 센텀시티점에 국내 최초 '베이비 디올' 매장 오픈\n",
       "2022-03-16     이동근 \"중대재해법, 기업 부담 커 윤석열 정부, 개선해달라\"\n",
       "2022-03-16        '위기에도 혁신' K-배터리 한자리  반도체 신화 넘본다\n",
       "2022-03-16                      [솔선守法] 중대재해법 첫 사건\n",
       "2022-03-16       코스피, 기관 매수에 상승 마감 하루만에 '7만전자' 회복\n",
       "...                                           ...\n",
       "2022-03-31      전세대출도 5% 넘었다 한은, 금리인상 스텝 한템포 쉬어가나\n",
       "2022-03-31           가상자산, 성능과 안정의 시대로 테라 솔라나 급부상\n",
       "2022-03-31            “원전 생태계 복원 필요성 에너지 자립도 높여야”\n",
       "2022-03-31          무역보험공사, 창업진흥원과 미래 수출기업 육성 나선다\n",
       "2022-03-31            'IFC인수전' 미래에셋과 손잡는 유통업체는 어디\n",
       "\n",
       "[20000 rows x 1 columns]"
      ]
     },
     "execution_count": 88,
     "metadata": {},
     "output_type": "execute_result"
    }
   ],
   "source": [
    "tmp"
   ]
  },
  {
   "cell_type": "code",
   "execution_count": 59,
   "metadata": {},
   "outputs": [],
   "source": [
    "def df_process (df):\n",
    "    \n",
    "    df['일자'] = pd.to_datetime(df['일자'], format='%Y%m%d')\n",
    "    df = df.set_index('일자')\n",
    "\n",
    "    df = df.sort_index(ascending=True)    \n",
    "\n",
    "    return df[['제목']]"
   ]
  },
  {
   "cell_type": "code",
   "execution_count": 9,
   "metadata": {},
   "outputs": [
    {
     "name": "stderr",
     "output_type": "stream",
     "text": [
      "/opt/homebrew/Caskroom/miniforge/base/envs/NLP/lib/python3.8/site-packages/openpyxl/styles/stylesheet.py:226: UserWarning: Workbook contains no default style, apply openpyxl's default\n",
      "  warn(\"Workbook contains no default style, apply openpyxl's default\")\n"
     ]
    }
   ],
   "source": [
    "df = pd.read_excel('NewsResult_20220315-20220331.xlsx')"
   ]
  },
  {
   "cell_type": "code",
   "execution_count": 60,
   "metadata": {},
   "outputs": [
    {
     "data": {
      "text/html": [
       "<div>\n",
       "<style scoped>\n",
       "    .dataframe tbody tr th:only-of-type {\n",
       "        vertical-align: middle;\n",
       "    }\n",
       "\n",
       "    .dataframe tbody tr th {\n",
       "        vertical-align: top;\n",
       "    }\n",
       "\n",
       "    .dataframe thead th {\n",
       "        text-align: right;\n",
       "    }\n",
       "</style>\n",
       "<table border=\"1\" class=\"dataframe\">\n",
       "  <thead>\n",
       "    <tr style=\"text-align: right;\">\n",
       "      <th></th>\n",
       "      <th>뉴스 식별자</th>\n",
       "      <th>일자</th>\n",
       "      <th>언론사</th>\n",
       "      <th>기고자</th>\n",
       "      <th>제목</th>\n",
       "      <th>통합 분류1</th>\n",
       "      <th>통합 분류2</th>\n",
       "      <th>통합 분류3</th>\n",
       "      <th>사건/사고 분류1</th>\n",
       "      <th>사건/사고 분류2</th>\n",
       "      <th>사건/사고 분류3</th>\n",
       "      <th>인물</th>\n",
       "      <th>위치</th>\n",
       "      <th>기관</th>\n",
       "      <th>키워드</th>\n",
       "      <th>특성추출(가중치순 상위 50개)</th>\n",
       "      <th>본문</th>\n",
       "      <th>URL</th>\n",
       "      <th>분석제외 여부</th>\n",
       "    </tr>\n",
       "  </thead>\n",
       "  <tbody>\n",
       "    <tr>\n",
       "      <th>0</th>\n",
       "      <td>2.100601e+06</td>\n",
       "      <td>2022-03-31</td>\n",
       "      <td>한국경제</td>\n",
       "      <td>윤아영</td>\n",
       "      <td>'IFC인수전' 미래에셋과 손잡는 유통업체는 어디</td>\n",
       "      <td>경제&gt;산업_기업</td>\n",
       "      <td>경제&gt;무역</td>\n",
       "      <td>경제&gt;금융_재테크</td>\n",
       "      <td>NaN</td>\n",
       "      <td>NaN</td>\n",
       "      <td>NaN</td>\n",
       "      <td>NaN</td>\n",
       "      <td>IFC인수전,여의도,IFC,강북</td>\n",
       "      <td>파크원,미래에셋,미래에셋자산운용,IFC,더현대,미래에셋컨소시엄,신세계프라퍼티,이지스...</td>\n",
       "      <td>IFC인수전,미래에셋,유통업체,기사,08:27,마켓인사이트,게재,기사,다음달,입찰,...</td>\n",
       "      <td>ifc,여의도,투자자,유통업체,쇼핑몰,관계자,미래에셋자산운용,더현대,신세계프라퍼티,...</td>\n",
       "      <td>이 기사는 03월 31일 08:27 “마켓인사이트”에 게재된 기사입니다. \\n \\n...</td>\n",
       "      <td>https://www.hankyung.com/economy/article/20220...</td>\n",
       "      <td>NaN</td>\n",
       "    </tr>\n",
       "    <tr>\n",
       "      <th>1</th>\n",
       "      <td>2.100601e+06</td>\n",
       "      <td>2022-03-31</td>\n",
       "      <td>한국경제</td>\n",
       "      <td>윤아영</td>\n",
       "      <td>카사, 네번째 상장 건물로 동대문 부티크호텔 공개</td>\n",
       "      <td>경제&gt;증권_증시</td>\n",
       "      <td>지역&gt;경남</td>\n",
       "      <td>경제&gt;부동산</td>\n",
       "      <td>NaN</td>\n",
       "      <td>NaN</td>\n",
       "      <td>NaN</td>\n",
       "      <td>예창완</td>\n",
       "      <td>동대문역사문화공원역,동대문,부티크호텔,2·4·5호선,부티크</td>\n",
       "      <td>카사,플라자,Kasa,케이엔에이치,마켓인사이트,르릿</td>\n",
       "      <td>카사,건물,번째,상장,공개,동대문,부티크호텔,기사,09:18,마켓인사이트,게재,기사...</td>\n",
       "      <td>카사,부티크호텔,동대문,부동산,르릿,댑스,마켓인사이트,임대차,동대문역사문화공원역,예...</td>\n",
       "      <td>이 기사는 03월 31일 09:18 “마켓인사이트”에 게재된 기사입니다. \\n \\n...</td>\n",
       "      <td>https://www.hankyung.com/economy/article/20220...</td>\n",
       "      <td>NaN</td>\n",
       "    </tr>\n",
       "    <tr>\n",
       "      <th>2</th>\n",
       "      <td>2.100601e+06</td>\n",
       "      <td>2022-03-31</td>\n",
       "      <td>한국경제</td>\n",
       "      <td>윤아영</td>\n",
       "      <td>SK D&amp;D-국민연금, 리츠 통해 남대문 일대 고층 오피스 개발</td>\n",
       "      <td>경제&gt;부동산</td>\n",
       "      <td>지역&gt;강원</td>\n",
       "      <td>지역&gt;경기</td>\n",
       "      <td>NaN</td>\n",
       "      <td>NaN</td>\n",
       "      <td>NaN</td>\n",
       "      <td>NaN</td>\n",
       "      <td>중구,서울,봉래구역,봉래,남대문로,서울역,남대문,남대문로5가</td>\n",
       "      <td>국민연금공단,국민연,DDVIC1호,SK,국토교통부,마켓인사이트,디앤디인베스트먼트</td>\n",
       "      <td>SK,D&amp;D,국민연금,리츠,남대문,일대,고층,오피스,기사,06:07,마켓인사이트,게...</td>\n",
       "      <td>ddivc1호리츠,봉래,남대문로,남대문,sk,서울,디앤디인베스트먼트,디디아이브이,중...</td>\n",
       "      <td>이 기사는 03월 31일 06:07 “마켓인사이트”에 게재된 기사입니다. \\n \\n...</td>\n",
       "      <td>https://www.hankyung.com/economy/article/20220...</td>\n",
       "      <td>NaN</td>\n",
       "    </tr>\n",
       "    <tr>\n",
       "      <th>3</th>\n",
       "      <td>2.100601e+06</td>\n",
       "      <td>2022-03-31</td>\n",
       "      <td>한국경제</td>\n",
       "      <td>이태호</td>\n",
       "      <td>신평 3사 모두 현대두산인프라 신용등급 상향</td>\n",
       "      <td>경제&gt;금융_재테크</td>\n",
       "      <td>경제&gt;자동차</td>\n",
       "      <td>경제&gt;반도체</td>\n",
       "      <td>NaN</td>\n",
       "      <td>NaN</td>\n",
       "      <td>NaN</td>\n",
       "      <td>김봉환</td>\n",
       "      <td>신평</td>\n",
       "      <td>현대두산인프라코어,현대중공업,현대두산인프라,유상증자,한국기업평가,한국신용평가,마켓인...</td>\n",
       "      <td>신평,상향,현대두산인프라,신용,등급,기사,18:21,마켓인사이트,게재,기사,나이스신...</td>\n",
       "      <td>현대두산인프라코어,나신평,신용등급,현대두산인프라,상각전,김봉환,마켓인사이트,6833...</td>\n",
       "      <td>이 기사는 03월 31일 18:21 “마켓인사이트”에 게재된 기사입니다. \\n \\n...</td>\n",
       "      <td>https://www.hankyung.com/finance/article/20220...</td>\n",
       "      <td>NaN</td>\n",
       "    </tr>\n",
       "    <tr>\n",
       "      <th>4</th>\n",
       "      <td>2.100601e+06</td>\n",
       "      <td>2022-03-31</td>\n",
       "      <td>한국경제</td>\n",
       "      <td>김진수</td>\n",
       "      <td>[데스크 칼럼] 국토교통부 '홀대론'</td>\n",
       "      <td>정치&gt;청와대</td>\n",
       "      <td>경제&gt;부동산</td>\n",
       "      <td>경제&gt;산업_기업</td>\n",
       "      <td>NaN</td>\n",
       "      <td>NaN</td>\n",
       "      <td>NaN</td>\n",
       "      <td>노형욱,박근혜,문재인,윤,유일호,윤석열,강호일,김현미,변창흠,서승환</td>\n",
       "      <td>서울,강남,신성,하남,남양주,왕숙,서울시,경기도,수도권</td>\n",
       "      <td>인수위,하마평,기재부,산업부,국토부,서울시,LH(,정부,한국토지주택공사,청와대,기용...</td>\n",
       "      <td>국토,교통부,홀대,대통령,인수,위원회,출범,인수위,당선인,윤석열,대통령,공약,토대,...</td>\n",
       "      <td>국토부,부동산,인수위,인수위원,당선인,서울시,윤석열,산업부,재건축,경기도,서승환,박근혜</td>\n",
       "      <td>제20대 대통령직인수위원회가 출범한 지 2주가 지났다. 인수위는 윤석열 대통령 당선...</td>\n",
       "      <td>https://www.hankyung.com/opinion/article/20220...</td>\n",
       "      <td>NaN</td>\n",
       "    </tr>\n",
       "  </tbody>\n",
       "</table>\n",
       "</div>"
      ],
      "text/plain": [
       "         뉴스 식별자         일자   언론사  기고자                                   제목  \\\n",
       "0  2.100601e+06 2022-03-31  한국경제  윤아영          'IFC인수전' 미래에셋과 손잡는 유통업체는 어디   \n",
       "1  2.100601e+06 2022-03-31  한국경제  윤아영          카사, 네번째 상장 건물로 동대문 부티크호텔 공개   \n",
       "2  2.100601e+06 2022-03-31  한국경제  윤아영  SK D&D-국민연금, 리츠 통해 남대문 일대 고층 오피스 개발   \n",
       "3  2.100601e+06 2022-03-31  한국경제  이태호             신평 3사 모두 현대두산인프라 신용등급 상향   \n",
       "4  2.100601e+06 2022-03-31  한국경제  김진수                 [데스크 칼럼] 국토교통부 '홀대론'   \n",
       "\n",
       "      통합 분류1   통합 분류2      통합 분류3 사건/사고 분류1 사건/사고 분류2 사건/사고 분류3  \\\n",
       "0   경제>산업_기업    경제>무역   경제>금융_재테크       NaN       NaN       NaN   \n",
       "1   경제>증권_증시    지역>경남      경제>부동산       NaN       NaN       NaN   \n",
       "2     경제>부동산    지역>강원       지역>경기       NaN       NaN       NaN   \n",
       "3  경제>금융_재테크   경제>자동차      경제>반도체       NaN       NaN       NaN   \n",
       "4     정치>청와대   경제>부동산    경제>산업_기업       NaN       NaN       NaN   \n",
       "\n",
       "                                      인물                                 위치  \\\n",
       "0                                    NaN                  IFC인수전,여의도,IFC,강북   \n",
       "1                                    예창완   동대문역사문화공원역,동대문,부티크호텔,2·4·5호선,부티크   \n",
       "2                                    NaN  중구,서울,봉래구역,봉래,남대문로,서울역,남대문,남대문로5가   \n",
       "3                                    김봉환                                 신평   \n",
       "4  노형욱,박근혜,문재인,윤,유일호,윤석열,강호일,김현미,변창흠,서승환     서울,강남,신성,하남,남양주,왕숙,서울시,경기도,수도권   \n",
       "\n",
       "                                                  기관  \\\n",
       "0  파크원,미래에셋,미래에셋자산운용,IFC,더현대,미래에셋컨소시엄,신세계프라퍼티,이지스...   \n",
       "1                       카사,플라자,Kasa,케이엔에이치,마켓인사이트,르릿   \n",
       "2       국민연금공단,국민연,DDVIC1호,SK,국토교통부,마켓인사이트,디앤디인베스트먼트   \n",
       "3  현대두산인프라코어,현대중공업,현대두산인프라,유상증자,한국기업평가,한국신용평가,마켓인...   \n",
       "4  인수위,하마평,기재부,산업부,국토부,서울시,LH(,정부,한국토지주택공사,청와대,기용...   \n",
       "\n",
       "                                                 키워드  \\\n",
       "0  IFC인수전,미래에셋,유통업체,기사,08:27,마켓인사이트,게재,기사,다음달,입찰,...   \n",
       "1  카사,건물,번째,상장,공개,동대문,부티크호텔,기사,09:18,마켓인사이트,게재,기사...   \n",
       "2  SK,D&D,국민연금,리츠,남대문,일대,고층,오피스,기사,06:07,마켓인사이트,게...   \n",
       "3  신평,상향,현대두산인프라,신용,등급,기사,18:21,마켓인사이트,게재,기사,나이스신...   \n",
       "4  국토,교통부,홀대,대통령,인수,위원회,출범,인수위,당선인,윤석열,대통령,공약,토대,...   \n",
       "\n",
       "                                   특성추출(가중치순 상위 50개)  \\\n",
       "0  ifc,여의도,투자자,유통업체,쇼핑몰,관계자,미래에셋자산운용,더현대,신세계프라퍼티,...   \n",
       "1  카사,부티크호텔,동대문,부동산,르릿,댑스,마켓인사이트,임대차,동대문역사문화공원역,예...   \n",
       "2  ddivc1호리츠,봉래,남대문로,남대문,sk,서울,디앤디인베스트먼트,디디아이브이,중...   \n",
       "3  현대두산인프라코어,나신평,신용등급,현대두산인프라,상각전,김봉환,마켓인사이트,6833...   \n",
       "4   국토부,부동산,인수위,인수위원,당선인,서울시,윤석열,산업부,재건축,경기도,서승환,박근혜   \n",
       "\n",
       "                                                  본문  \\\n",
       "0  이 기사는 03월 31일 08:27 “마켓인사이트”에 게재된 기사입니다. \\n \\n...   \n",
       "1  이 기사는 03월 31일 09:18 “마켓인사이트”에 게재된 기사입니다. \\n \\n...   \n",
       "2  이 기사는 03월 31일 06:07 “마켓인사이트”에 게재된 기사입니다. \\n \\n...   \n",
       "3  이 기사는 03월 31일 18:21 “마켓인사이트”에 게재된 기사입니다. \\n \\n...   \n",
       "4  제20대 대통령직인수위원회가 출범한 지 2주가 지났다. 인수위는 윤석열 대통령 당선...   \n",
       "\n",
       "                                                 URL 분석제외 여부  \n",
       "0  https://www.hankyung.com/economy/article/20220...     NaN  \n",
       "1  https://www.hankyung.com/economy/article/20220...     NaN  \n",
       "2  https://www.hankyung.com/economy/article/20220...     NaN  \n",
       "3  https://www.hankyung.com/finance/article/20220...     NaN  \n",
       "4  https://www.hankyung.com/opinion/article/20220...     NaN  "
      ]
     },
     "execution_count": 60,
     "metadata": {},
     "output_type": "execute_result"
    }
   ],
   "source": [
    "df.head()"
   ]
  },
  {
   "cell_type": "code",
   "execution_count": 11,
   "metadata": {},
   "outputs": [
    {
     "data": {
      "text/html": [
       "<div>\n",
       "<style scoped>\n",
       "    .dataframe tbody tr th:only-of-type {\n",
       "        vertical-align: middle;\n",
       "    }\n",
       "\n",
       "    .dataframe tbody tr th {\n",
       "        vertical-align: top;\n",
       "    }\n",
       "\n",
       "    .dataframe thead th {\n",
       "        text-align: right;\n",
       "    }\n",
       "</style>\n",
       "<table border=\"1\" class=\"dataframe\">\n",
       "  <thead>\n",
       "    <tr style=\"text-align: right;\">\n",
       "      <th></th>\n",
       "      <th>제목</th>\n",
       "    </tr>\n",
       "    <tr>\n",
       "      <th>일자</th>\n",
       "      <th></th>\n",
       "    </tr>\n",
       "  </thead>\n",
       "  <tbody>\n",
       "    <tr>\n",
       "      <th>2022-03-31</th>\n",
       "      <td>'IFC인수전' 미래에셋과 손잡는 유통업체는 어디</td>\n",
       "    </tr>\n",
       "    <tr>\n",
       "      <th>2022-03-31</th>\n",
       "      <td>카사, 네번째 상장 건물로 동대문 부티크호텔 공개</td>\n",
       "    </tr>\n",
       "    <tr>\n",
       "      <th>2022-03-31</th>\n",
       "      <td>SK D&amp;D-국민연금, 리츠 통해 남대문 일대 고층 오피스 개발</td>\n",
       "    </tr>\n",
       "    <tr>\n",
       "      <th>2022-03-31</th>\n",
       "      <td>신평 3사 모두 현대두산인프라 신용등급 상향</td>\n",
       "    </tr>\n",
       "    <tr>\n",
       "      <th>2022-03-31</th>\n",
       "      <td>[데스크 칼럼] 국토교통부 '홀대론'</td>\n",
       "    </tr>\n",
       "    <tr>\n",
       "      <th>...</th>\n",
       "      <td>...</td>\n",
       "    </tr>\n",
       "    <tr>\n",
       "      <th>2022-03-16</th>\n",
       "      <td>홍남기 \"2월 고용시장, 모든 면에서 개선세 뚜렷\"</td>\n",
       "    </tr>\n",
       "    <tr>\n",
       "      <th>2022-03-16</th>\n",
       "      <td>“레이, 中 치과 시장 진출로 성장할 것”</td>\n",
       "    </tr>\n",
       "    <tr>\n",
       "      <th>2022-03-16</th>\n",
       "      <td>유재영 SK이노베이션 울산CLX 총괄 “親지구적 그린플랜트로 진화”</td>\n",
       "    </tr>\n",
       "    <tr>\n",
       "      <th>2022-03-16</th>\n",
       "      <td>이누스, 업계 최초 '공정거래 자율준수 프로그램(CP)' 도입</td>\n",
       "    </tr>\n",
       "    <tr>\n",
       "      <th>2022-03-16</th>\n",
       "      <td>신세계百, 강남점 센텀시티점에 국내 최초 '베이비 디올' 매장 오픈</td>\n",
       "    </tr>\n",
       "  </tbody>\n",
       "</table>\n",
       "<p>20000 rows × 1 columns</p>\n",
       "</div>"
      ],
      "text/plain": [
       "                                               제목\n",
       "일자                                               \n",
       "2022-03-31            'IFC인수전' 미래에셋과 손잡는 유통업체는 어디\n",
       "2022-03-31            카사, 네번째 상장 건물로 동대문 부티크호텔 공개\n",
       "2022-03-31    SK D&D-국민연금, 리츠 통해 남대문 일대 고층 오피스 개발\n",
       "2022-03-31               신평 3사 모두 현대두산인프라 신용등급 상향\n",
       "2022-03-31                   [데스크 칼럼] 국토교통부 '홀대론'\n",
       "...                                           ...\n",
       "2022-03-16           홍남기 \"2월 고용시장, 모든 면에서 개선세 뚜렷\"\n",
       "2022-03-16                “레이, 中 치과 시장 진출로 성장할 것”\n",
       "2022-03-16  유재영 SK이노베이션 울산CLX 총괄 “親지구적 그린플랜트로 진화”\n",
       "2022-03-16     이누스, 업계 최초 '공정거래 자율준수 프로그램(CP)' 도입\n",
       "2022-03-16  신세계百, 강남점 센텀시티점에 국내 최초 '베이비 디올' 매장 오픈\n",
       "\n",
       "[20000 rows x 1 columns]"
      ]
     },
     "execution_count": 11,
     "metadata": {},
     "output_type": "execute_result"
    }
   ],
   "source": [
    "df_process(df)"
   ]
  },
  {
   "cell_type": "code",
   "execution_count": 12,
   "metadata": {},
   "outputs": [],
   "source": [
    "okt = Hannanum()"
   ]
  },
  {
   "cell_type": "code",
   "execution_count": 19,
   "metadata": {},
   "outputs": [],
   "source": [
    "from konlpy.tag import Mecab"
   ]
  },
  {
   "cell_type": "markdown",
   "metadata": {},
   "source": [
    "'-d /usr/local/lib/mecab/dic/mecab-ko-dic'"
   ]
  },
  {
   "cell_type": "code",
   "execution_count": 20,
   "metadata": {},
   "outputs": [],
   "source": [
    "mcb = Mecab()\n",
    "text = \"안녕하세요 제 이름은 이선우 입니다.\"\n"
   ]
  },
  {
   "cell_type": "code",
   "execution_count": 21,
   "metadata": {},
   "outputs": [
    {
     "data": {
      "text/plain": [
       "[['안녕/NNG', '하/XSV', '세요/EP+EF'],\n",
       " ['제/NP'],\n",
       " ['이름/NNG', '은/JX'],\n",
       " ['이선우/NNP'],\n",
       " ['입니다/VCP+EF', './SF']]"
      ]
     },
     "execution_count": 21,
     "metadata": {},
     "output_type": "execute_result"
    }
   ],
   "source": [
    "mcb.pos(text, flatten=False, join=True)"
   ]
  },
  {
   "cell_type": "code",
   "execution_count": 22,
   "metadata": {},
   "outputs": [
    {
     "data": {
      "text/plain": [
       "['안녕', '하', '세요', '제', '이름', '은', '이선우', '입니다', '.']"
      ]
     },
     "execution_count": 22,
     "metadata": {},
     "output_type": "execute_result"
    }
   ],
   "source": [
    "mcb.morphs(text)"
   ]
  },
  {
   "cell_type": "code",
   "execution_count": 15,
   "metadata": {},
   "outputs": [
    {
     "ename": "NameError",
     "evalue": "name 'ret' is not defined",
     "output_type": "error",
     "traceback": [
      "\u001b[0;31m---------------------------------------------------------------------------\u001b[0m",
      "\u001b[0;31mNameError\u001b[0m                                 Traceback (most recent call last)",
      "\u001b[1;32m/Users/Sun/Documents/Github/text-data-anaylsis/News_word/News_words.ipynb Cell 10'\u001b[0m in \u001b[0;36m<cell line: 1>\u001b[0;34m()\u001b[0m\n\u001b[0;32m----> <a href='vscode-notebook-cell:/Users/Sun/Documents/Github/text-data-anaylsis/News_word/News_words.ipynb#ch0000008?line=0'>1</a>\u001b[0m ret\n",
      "\u001b[0;31mNameError\u001b[0m: name 'ret' is not defined"
     ]
    }
   ],
   "source": [
    "ret"
   ]
  },
  {
   "cell_type": "code",
   "execution_count": null,
   "metadata": {},
   "outputs": [
    {
     "name": "stdout",
     "output_type": "stream",
     "text": [
      "Collecting eunjeon\n",
      "  Using cached eunjeon-0.4.0.tar.gz (34.7 MB)\n",
      "Building wheels for collected packages: eunjeon\n",
      "  Building wheel for eunjeon (setup.py) ... \u001b[?25ldone\n",
      "\u001b[?25h  Created wheel for eunjeon: filename=eunjeon-0.4.0-cp38-cp38-macosx_11_0_arm64.whl size=34077890 sha256=59a34a966b11252002d060f27a87a6815908d3f7613ecbb6fece3252237a65cb\n",
      "  Stored in directory: /Users/Sun/Library/Caches/pip/wheels/4b/1d/e9/bfa4c18245fc292aaa650fe6dd982a4feddfaab49f3b8f9f25\n",
      "Successfully built eunjeon\n",
      "Installing collected packages: eunjeon\n",
      "Successfully installed eunjeon-0.4.0\n"
     ]
    }
   ],
   "source": [
    "!pip install eunjeon"
   ]
  },
  {
   "cell_type": "code",
   "execution_count": null,
   "metadata": {},
   "outputs": [
    {
     "ename": "ImportError",
     "evalue": "cannot import name 'MeCab' from 'eunjeon' (/opt/homebrew/Caskroom/miniforge/base/envs/NLP/lib/python3.8/site-packages/eunjeon/__init__.py)",
     "output_type": "error",
     "traceback": [
      "\u001b[0;31m---------------------------------------------------------------------------\u001b[0m",
      "\u001b[0;31mImportError\u001b[0m                               Traceback (most recent call last)",
      "\u001b[1;32m/Users/Sun/Documents/Github/text-data-anaylsis/News_word/News_words.ipynb Cell 11'\u001b[0m in \u001b[0;36m<cell line: 1>\u001b[0;34m()\u001b[0m\n\u001b[0;32m----> <a href='vscode-notebook-cell:/Users/Sun/Documents/Github/text-data-anaylsis/News_word/News_words.ipynb#ch0000009?line=0'>1</a>\u001b[0m \u001b[39mfrom\u001b[39;00m \u001b[39meunjeon\u001b[39;00m \u001b[39mimport\u001b[39;00m MeCab\n\u001b[1;32m      <a href='vscode-notebook-cell:/Users/Sun/Documents/Github/text-data-anaylsis/News_word/News_words.ipynb#ch0000009?line=2'>3</a>\u001b[0m m \u001b[39m=\u001b[39m MeCab()\n\u001b[1;32m      <a href='vscode-notebook-cell:/Users/Sun/Documents/Github/text-data-anaylsis/News_word/News_words.ipynb#ch0000009?line=4'>5</a>\u001b[0m m\u001b[39m.\u001b[39mpos(\u001b[39m\"\u001b[39m\u001b[39m안녕하세요 제 이름은 이선우 입니다.\u001b[39m\u001b[39m\"\u001b[39m)\n",
      "\u001b[0;31mImportError\u001b[0m: cannot import name 'MeCab' from 'eunjeon' (/opt/homebrew/Caskroom/miniforge/base/envs/NLP/lib/python3.8/site-packages/eunjeon/__init__.py)"
     ]
    }
   ],
   "source": [
    "from eunjeon import MeCab\n",
    "\n",
    "m = MeCab()\n",
    "\n",
    "m.pos(\"안녕하세요 제 이름은 이선우 입니다.\")"
   ]
  }
 ],
 "metadata": {
  "interpreter": {
   "hash": "d49957daa954e6bec9f177fc046718ee074770fab86eb9520507fb7fbdbef1cf"
  },
  "kernelspec": {
   "display_name": "Python 3.8.13 ('NLP')",
   "language": "python",
   "name": "python3"
  },
  "language_info": {
   "codemirror_mode": {
    "name": "ipython",
    "version": 3
   },
   "file_extension": ".py",
   "mimetype": "text/x-python",
   "name": "python",
   "nbconvert_exporter": "python",
   "pygments_lexer": "ipython3",
   "version": "3.8.13"
  },
  "orig_nbformat": 4
 },
 "nbformat": 4,
 "nbformat_minor": 2
}
