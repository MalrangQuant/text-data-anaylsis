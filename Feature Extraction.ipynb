{
 "cells": [
  {
   "cell_type": "markdown",
   "metadata": {},
   "source": [
    "# Feature Extraction, or Text Representation\n",
    "\n",
    "Feature Extraction : 음성이나, 글, 현재 상태나 이미지등 모든 것들을 \"행렬\"로 바꾸는 작업 (행렬로 받아야 계산이나 처리가 가능하니까) <br>\n",
    "\n",
    "Text Representation <br>\n",
    "- Simple word Counting\n",
    "- Embedding\n",
    "- Context-based embedding (Bert)\n",
    "\n"
   ]
  },
  {
   "cell_type": "code",
   "execution_count": null,
   "metadata": {},
   "outputs": [],
   "source": []
  }
 ],
 "metadata": {
  "interpreter": {
   "hash": "d49957daa954e6bec9f177fc046718ee074770fab86eb9520507fb7fbdbef1cf"
  },
  "kernelspec": {
   "display_name": "Python 3.8.13 ('NLP')",
   "language": "python",
   "name": "python3"
  },
  "language_info": {
   "name": "python",
   "version": "3.8.13"
  },
  "orig_nbformat": 4
 },
 "nbformat": 4,
 "nbformat_minor": 2
}
