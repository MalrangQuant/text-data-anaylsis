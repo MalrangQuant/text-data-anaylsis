{
 "cells": [
  {
   "cell_type": "markdown",
   "metadata": {},
   "source": []
  },
  {
   "cell_type": "markdown",
   "metadata": {},
   "source": [
    "# Tokenization - Korean"
   ]
  },
  {
   "cell_type": "code",
   "execution_count": 1,
   "metadata": {},
   "outputs": [],
   "source": [
    "import kss"
   ]
  },
  {
   "cell_type": "code",
   "execution_count": 5,
   "metadata": {},
   "outputs": [],
   "source": [
    "text = '너에게 닥친 고난이 아무리 커보이더라도 명심해라. 아직 빙산의 일각일 뿐이다.'"
   ]
  },
  {
   "cell_type": "code",
   "execution_count": 6,
   "metadata": {},
   "outputs": [
    {
     "name": "stderr",
     "output_type": "stream",
     "text": [
      "[Korean Sentence Splitter]: Initializing Pynori...\n"
     ]
    },
    {
     "name": "stdout",
     "output_type": "stream",
     "text": [
      "너에게 닥친 고난이 아무리 커보이더라도 명심해라.\n",
      "아직 빙산의 일각일 뿐이다.\n"
     ]
    }
   ],
   "source": [
    "for sent in kss.split_sentences(text):\n",
    "    print(sent)"
   ]
  },
  {
   "cell_type": "code",
   "execution_count": 7,
   "metadata": {},
   "outputs": [],
   "source": [
    "from konlpy.tag import Okt"
   ]
  },
  {
   "cell_type": "code",
   "execution_count": 11,
   "metadata": {},
   "outputs": [],
   "source": [
    "okt = Okt()"
   ]
  },
  {
   "cell_type": "code",
   "execution_count": 12,
   "metadata": {},
   "outputs": [
    {
     "data": {
      "text/plain": [
       "['너',\n",
       " '에게',\n",
       " '닥친',\n",
       " '고난',\n",
       " '이',\n",
       " '아무리',\n",
       " '커',\n",
       " '보이더라도',\n",
       " '명',\n",
       " '심해',\n",
       " '라',\n",
       " '.',\n",
       " '아직',\n",
       " '빙산',\n",
       " '의',\n",
       " '일',\n",
       " '각',\n",
       " '일',\n",
       " '뿐',\n",
       " '이다',\n",
       " '.']"
      ]
     },
     "execution_count": 12,
     "metadata": {},
     "output_type": "execute_result"
    }
   ],
   "source": [
    "okt.morphs(text)"
   ]
  },
  {
   "cell_type": "code",
   "execution_count": 13,
   "metadata": {},
   "outputs": [
    {
     "data": {
      "text/plain": [
       "[('너', 'Noun'),\n",
       " ('에게', 'Josa'),\n",
       " ('닥친', 'Verb'),\n",
       " ('고난', 'Noun'),\n",
       " ('이', 'Josa'),\n",
       " ('아무리', 'Adverb'),\n",
       " ('커', 'Verb'),\n",
       " ('보이더라도', 'Verb'),\n",
       " ('명', 'Noun'),\n",
       " ('심해', 'Noun'),\n",
       " ('라', 'Josa'),\n",
       " ('.', 'Punctuation'),\n",
       " ('아직', 'Adverb'),\n",
       " ('빙산', 'Noun'),\n",
       " ('의', 'Josa'),\n",
       " ('일', 'Modifier'),\n",
       " ('각', 'Modifier'),\n",
       " ('일', 'Noun'),\n",
       " ('뿐', 'Noun'),\n",
       " ('이다', 'Josa'),\n",
       " ('.', 'Punctuation')]"
      ]
     },
     "execution_count": 13,
     "metadata": {},
     "output_type": "execute_result"
    }
   ],
   "source": [
    "okt.pos(text)"
   ]
  }
 ],
 "metadata": {
  "interpreter": {
   "hash": "d49957daa954e6bec9f177fc046718ee074770fab86eb9520507fb7fbdbef1cf"
  },
  "kernelspec": {
   "display_name": "Python 3.8.13 ('NLP')",
   "language": "python",
   "name": "python3"
  },
  "language_info": {
   "codemirror_mode": {
    "name": "ipython",
    "version": 3
   },
   "file_extension": ".py",
   "mimetype": "text/x-python",
   "name": "python",
   "nbconvert_exporter": "python",
   "pygments_lexer": "ipython3",
   "version": "3.8.13"
  },
  "orig_nbformat": 4
 },
 "nbformat": 4,
 "nbformat_minor": 2
}
